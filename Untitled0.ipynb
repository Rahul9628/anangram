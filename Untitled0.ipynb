{
  "nbformat": 4,
  "nbformat_minor": 0,
  "metadata": {
    "colab": {
      "provenance": [],
      "authorship_tag": "ABX9TyPKoHyhXFlgDs8QfcM0kKJj",
      "include_colab_link": true
    },
    "kernelspec": {
      "name": "python3",
      "display_name": "Python 3"
    },
    "language_info": {
      "name": "python"
    }
  },
  "cells": [
    {
      "cell_type": "markdown",
      "metadata": {
        "id": "view-in-github",
        "colab_type": "text"
      },
      "source": [
        "<a href=\"https://colab.research.google.com/github/Rahul9628/anangram/blob/main/Untitled0.ipynb\" target=\"_parent\"><img src=\"https://colab.research.google.com/assets/colab-badge.svg\" alt=\"Open In Colab\"/></a>"
      ]
    },
    {
      "cell_type": "code",
      "source": [
        "#find vowels in word\n",
        "a=input(\"enter a word \")\n",
        "b=list(a)\n",
        "count=0\n",
        "v=[\"a\",\"e\",\"i\",\"o\",\"u\"]\n",
        "for i in b:\n",
        "    if (i in v):\n",
        "        print(i)\n",
        "        count=count+1\n",
        "print(count)"
      ],
      "metadata": {
        "id": "mvaz4eYyEPGF"
      },
      "execution_count": null,
      "outputs": []
    }
  ]
}