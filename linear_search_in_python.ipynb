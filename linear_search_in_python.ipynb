{
  "nbformat": 4,
  "nbformat_minor": 0,
  "metadata": {
    "colab": {
      "provenance": [],
      "authorship_tag": "ABX9TyMbr7yPWly1iUFL6UlgXIp/",
      "include_colab_link": true
    },
    "kernelspec": {
      "name": "python3",
      "display_name": "Python 3"
    },
    "language_info": {
      "name": "python"
    }
  },
  "cells": [
    {
      "cell_type": "markdown",
      "metadata": {
        "id": "view-in-github",
        "colab_type": "text"
      },
      "source": [
        "<a href=\"https://colab.research.google.com/github/Rahul9628/anangram/blob/main/Untitled0.ipynb\" target=\"_parent\"><img src=\"https://colab.research.google.com/assets/colab-badge.svg\" alt=\"Open In Colab\"/></a>"
      ]
    },
    {
      "cell_type": "code",
      "source": [
        "def linear_search(n):\n",
        "    a=[5,8,6,3,4,9,7]\n",
        "    key=int(input(\"enter a key to search :\"))\n",
        "    for i in range(len(a)):\n",
        "        if a[i]==key:\n",
        "            print(\"the key value is present in given array\")\n",
        "            break\n",
        "    else:\n",
        "        print(\"user has enter invalid key value\")\n",
        "linear_search(key)"
      ],
      "metadata": {
        "id": "mvaz4eYyEPGF"
      },
      "execution_count": null,
      "outputs": []
    }
  ]
}
