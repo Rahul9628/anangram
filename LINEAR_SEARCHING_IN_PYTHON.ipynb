{
  "nbformat": 4,
  "nbformat_minor": 0,
  "metadata": {
    "colab": {
      "provenance": [],
      "authorship_tag": "ABX9TyP0hd+BW9d9AlwG9jlPo1an",
      "include_colab_link": true
    },
    "kernelspec": {
      "name": "python3",
      "display_name": "Python 3"
    },
    "language_info": {
      "name": "python"
    }
  },
  "cells": [
    {
      "cell_type": "markdown",
      "metadata": {
        "id": "view-in-github",
        "colab_type": "text"
      },
      "source": [
        "<a href=\"https://colab.research.google.com/github/Rahul9628/anangram/blob/main/Untitled0.ipynb\" target=\"_parent\"><img src=\"https://colab.research.google.com/assets/colab-badge.svg\" alt=\"Open In Colab\"/></a>"
      ]
    },
    {
      "cell_type": "code",
      "source": [],
      "metadata": {
        "id": "mvaz4eYyEPGF"
      },
      "execution_count": null,
      "outputs": []
    },
    {
      "cell_type": "code",
      "source": [
        "def linear_search(n):\n",
        "    a=[5,8,6,3,4,9,7]\n",
        "    key=int(input(\"enter a key to search :\"))\n",
        "    for i in range(len(a)):\n",
        "        if a[i]==key:\n",
        "            print(\"the key value is present in given array\")\n",
        "            break\n",
        "    else:\n",
        "        print(\"user has enter invalid key value\")\n",
        "linear_search(key)"
      ],
      "metadata": {
        "id": "m8MtmEW3Gv1O"
      },
      "execution_count": null,
      "outputs": []
    },
    {
      "cell_type": "code",
      "source": [
        "a=[8,6,9,54,5,1,3,9,4]\n",
        "def check(array,key):\n",
        "    for i in range(len(a)):\n",
        "        if a[i]==key:\n",
        "            return i\n",
        "    return -1\n",
        "y=check(a,54)\n",
        "if y!=-1:\n",
        "    print(\"present\")\n",
        "else:\n",
        "    print(\"not present\")"
      ],
      "metadata": {
        "id": "q0fCyQppGy8-"
      },
      "execution_count": null,
      "outputs": []
    }
  ]
}
